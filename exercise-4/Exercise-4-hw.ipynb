{
 "cells": [
  {
   "cell_type": "code",
   "execution_count": 2,
   "metadata": {
    "collapsed": false
   },
   "outputs": [
    {
     "name": "stdout",
     "output_type": "stream",
     "text": [
      "100\n",
      "101\n",
      "102\n",
      "103\n",
      "104\n",
      "105\n",
      "106\n",
      "107\n",
      "108\n",
      "109\n",
      "110\n"
     ]
    }
   ],
   "source": [
    "#1.This program is a for-loop that prints out the numbers from 100 to 110.\n",
    "\n",
    "for i in range(100,111):\n",
    " print(i)\n"
   ]
  },
  {
   "cell_type": "code",
   "execution_count": 4,
   "metadata": {
    "collapsed": false
   },
   "outputs": [
    {
     "name": "stdout",
     "output_type": "stream",
     "text": [
      "100\n",
      "101\n",
      "102\n",
      "103\n",
      "104\n",
      "105\n",
      "106\n",
      "107\n",
      "108\n",
      "109\n",
      "110\n"
     ]
    }
   ],
   "source": [
    "#This program is a while- loop that prints out the numbers from 100 to 110.\n",
    "\n",
    "i=100\n",
    "while i<111:\n",
    "    print(i)\n",
    "    i=i+1"
   ]
  },
  {
   "cell_type": "code",
   "execution_count": 6,
   "metadata": {
    "collapsed": false
   },
   "outputs": [
    {
     "name": "stdout",
     "output_type": "stream",
     "text": [
      "The square of the number 10 is 100\n",
      "The square of the number 11 is 121\n",
      "The square of the number 12 is 144\n",
      "The square of the number 13 is 169\n",
      "The square of the number 14 is 196\n",
      "The square of the number 15 is 225\n"
     ]
    }
   ],
   "source": [
    "#This program is while-loop that prints out the squares of the numbers from 10-15. \n",
    "# it uses a loop from 10 to 15 and each time print the square of that number.\n",
    "i=10\n",
    "while i<16:\n",
    "    print(\"The square of the number \"+str(i)+\" is \"+str(i**2))\n",
    "    i=i+1\n"
   ]
  },
  {
   "cell_type": "code",
   "execution_count": 8,
   "metadata": {
    "collapsed": false
   },
   "outputs": [
    {
     "name": "stdout",
     "output_type": "stream",
     "text": [
      "Scooby is a charchter in the most glorious of cartoons, Scooby Doo\n",
      "Shaggy is a charchter in the most glorious of cartoons, Scooby Doo\n",
      "Velma is a charchter in the most glorious of cartoons, Scooby Doo\n",
      "Daphne is a charchter in the most glorious of cartoons, Scooby Doo\n",
      "Fred is a charchter in the most glorious of cartoons, Scooby Doo\n"
     ]
    }
   ],
   "source": [
    "#This is a loop that iterates over the list [\"Scooby\", \"Shaggy\", \"Velma\", \"Daphne\", \"Fred\"] \n",
    "#and for each character prints the statement \n",
    "#\"XXX is a character in that most glorious of cartoons, Scooby Doo\". \n",
    "\n",
    "List=[\"Scooby\", \"Shaggy\", \"Velma\", \"Daphne\", \"Fred\"]\n",
    "for name in List:\n",
    "    print(name+ \" is a charchter in the most glorious of cartoons, Scooby Doo\")\n",
    "    "
   ]
  },
  {
   "cell_type": "code",
   "execution_count": 40,
   "metadata": {
    "collapsed": false
   },
   "outputs": [
    {
     "name": "stdout",
     "output_type": "stream",
     "text": [
      "The sum is = 21\n"
     ]
    }
   ],
   "source": [
    "# This is a function that meets the following criteria:\n",
    "# 1. The function is named \"fact_or_sum\"   \n",
    "# 2. The function takes in one input, which must be an integer. If the user inputs a string, \n",
    "# the function will return an error message \"input not an integar\".\n",
    "# 3. If the input integer is 0, the function returns the number 0.  \n",
    "# 4. If the input integer is an odd number, the function returns the factorial of the number. \n",
    "# 4a. This was achieved by using % operation to calculate the remainder when divided by 2 to determine whether number is \n",
    "# odd or even\n",
    "# 5. The factorial is computed with a for loop. \n",
    "# 6. If the input integer is an even number, the function returns the sum of that number \n",
    "# 6a. The sum was achieved with a simple while loop, where the sums of numbers are added to a repository and printed at the end.\n",
    "\n",
    "def fact_or_sum(a):\n",
    "    \n",
    "    if type(a)!=int:\n",
    "        return(\"input not an integar\")\n",
    "        \n",
    "    elif a==0:\n",
    "        print(0)\n",
    "    \n",
    "    elif a%2==1:\n",
    "        factorial=1\n",
    "        for i in range(a,0,-1):\n",
    "            factorial=factorial*i\n",
    "        print(\"Factorial is = \"+ str(factorial))\n",
    "    \n",
    "    elif a%2==0:\n",
    "        Sum=0\n",
    "        i=a\n",
    "        while i>0:\n",
    "            Sum=Sum+i\n",
    "            i=i-1\n",
    "        print(\"The sum is = \"+str(Sum))\n",
    "\n",
    "fact_or_sum(6)\n"
   ]
  },
  {
   "cell_type": "code",
   "execution_count": null,
   "metadata": {
    "collapsed": false
   },
   "outputs": [],
   "source": []
  },
  {
   "cell_type": "code",
   "execution_count": null,
   "metadata": {
    "collapsed": true
   },
   "outputs": [],
   "source": []
  }
 ],
 "metadata": {
  "anaconda-cloud": {},
  "kernelspec": {
   "display_name": "Python [default]",
   "language": "python",
   "name": "python3"
  },
  "language_info": {
   "codemirror_mode": {
    "name": "ipython",
    "version": 3
   },
   "file_extension": ".py",
   "mimetype": "text/x-python",
   "name": "python",
   "nbconvert_exporter": "python",
   "pygments_lexer": "ipython3",
   "version": "3.5.2"
  }
 },
 "nbformat": 4,
 "nbformat_minor": 2
}
