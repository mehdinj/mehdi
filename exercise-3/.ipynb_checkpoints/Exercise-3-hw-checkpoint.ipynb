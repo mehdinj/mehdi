{
 "cells": [
  {
   "cell_type": "code",
   "execution_count": 1,
   "metadata": {
    "collapsed": false
   },
   "outputs": [
    {
     "name": "stdout",
     "output_type": "stream",
     "text": [
      "3\n"
     ]
    }
   ],
   "source": [
    "#Lab Homework\n",
    "#Question 1&2:\n",
    "a=3\n",
    "b=17\n",
    "c=a+b\n",
    "favorite_animal=\"Cheetah\"\n",
    "favorite_dinner= [\"shamshiri\",\"panini\",\"safron\"]\n",
    "num_fav_dinner= len(favorite_dinner)\n",
    "print(num_fav_dinner)"
   ]
  },
  {
   "cell_type": "code",
   "execution_count": 43,
   "metadata": {
    "collapsed": false
   },
   "outputs": [
    {
     "data": {
      "text/plain": [
       "'Error! input is not an integar'"
      ]
     },
     "execution_count": 43,
     "metadata": {},
     "output_type": "execute_result"
    }
   ],
   "source": [
    "#Question 3:\n",
    "def hw3_function(count):\n",
    "    \n",
    "    if type(count)!=int:\n",
    "        return(\"Error! input is not an integar\")\n",
    "    elif count<5:\n",
    "        return(\"Brr! It's cold!\")\n",
    "    elif count>25:\n",
    "        return(\"It's pretty warm\")\n",
    "    else:    \n",
    "        return(\"what a pleasant remperature!\")\n",
    "    \n",
    "    \n",
    "hw3_function(\"duck\")\n",
    "    "
   ]
  },
  {
   "cell_type": "code",
   "execution_count": 58,
   "metadata": {
    "collapsed": false
   },
   "outputs": [
    {
     "name": "stdout",
     "output_type": "stream",
     "text": [
      "no site found.\n"
     ]
    }
   ],
   "source": [
    "#Question 4:\n",
    "#this function will search for the pattern. If pattern is found it will print \"site found\" along with information\n",
    "#about details of the pattern found. Otherwise, it will print \"no site found\"\n",
    "import re\n",
    "DNA=\"ATAATTAACGGAGCTTATTA\"\n",
    "if re.search(\"G(A|T)(A|T)G(A|T|G|C)\", DNA):\n",
    "    GA = re.search(\"G(A|T)(A|T)G(A|T|G|C)\", DNA)\n",
    "    print(\"site found!\", GA)\n",
    "else:\n",
    "    print(\"no site found.\")\n",
    "\n"
   ]
  },
  {
   "cell_type": "code",
   "execution_count": 3,
   "metadata": {
    "collapsed": false
   },
   "outputs": [
    {
     "data": {
      "text/plain": [
       "'You picked rock; Computer picked rock; this is a tie!'"
      ]
     },
     "execution_count": 3,
     "metadata": {},
     "output_type": "execute_result"
    }
   ],
   "source": [
    "#Question 5:\n",
    "import random \n",
    "def rps(u):\n",
    "    a= [\"rock\",\"paper\",\"scissors\"]\n",
    "    c=random.choice(a)\n",
    "    \n",
    "    if (u!=\"rock\" and u!=\"paper\" and u !=\"scissors\"):\n",
    "     rps(input(\"please try again! \"))\n",
    "    \n",
    "    \n",
    "    if (u==\"rock\" and c==\"paper\"):\n",
    "        return(\"You picked \"+ u+\"; Computer picked \"+ c+\"; +1 for Computer!\")\n",
    "    \n",
    "    elif (u==\"rock\" and c==\"scissors\"):\n",
    "        return(\"You picked \"+ u+\"; Computer picked \"+ c+\"; +1 for You!\")\n",
    "    \n",
    "    elif (u==\"rock\" and c==\"rock\"):\n",
    "        return(\"You picked \"+ u+\"; Computer picked \"+ c+\"; this is a tie!\")\n",
    "    \n",
    "    \n",
    "    \n",
    "    \n",
    "    elif (u==\"paper\" and c==\"scissors\"):\n",
    "        return(\"You picked \"+ u +\"; Computer picked \"+ c+\"; +1 for Computer!\")\n",
    "    \n",
    "    elif (u==\"paper\" and c==\"rock\"):\n",
    "        return(\"You picked \"+ u +\"; Computer picked \"+ c+\"; +1 for You!\")\n",
    "    \n",
    "    elif (u==\"paper\" and c==\"paper\"):\n",
    "        return(\"You picked \"+ u +\"; Computer picked \"+ c +\"; this is a tie!\")\n",
    "    \n",
    "    \n",
    "    \n",
    "    elif (u==\"scissors\" and c==\"rock\"):\n",
    "        return(\"You picked \"+ u+\"; Computer picked \"+ c+\"; +1 for Computer!\")\n",
    "    \n",
    "    elif (u==\"scissors\" and c==\"paper\"):\n",
    "        return(\"You picked \"+ u+\"; Computer picked \"+ c+\"; +1 for You!\")\n",
    "    \n",
    "    elif (u==\"scissors\" and c==\"scissors\"):\n",
    "        return(\"You picked \"+ u+\"; Computer picked \"+ c+\"; this is a tie!\")\n",
    "    \n",
    "    \n",
    "    \n",
    "\n",
    "rps(\"rock\")\n",
    "\n"
   ]
  },
  {
   "cell_type": "code",
   "execution_count": null,
   "metadata": {
    "collapsed": true
   },
   "outputs": [],
   "source": []
  },
  {
   "cell_type": "code",
   "execution_count": null,
   "metadata": {
    "collapsed": true
   },
   "outputs": [],
   "source": []
  }
 ],
 "metadata": {
  "anaconda-cloud": {},
  "kernelspec": {
   "display_name": "Python [default]",
   "language": "python",
   "name": "python3"
  },
  "language_info": {
   "codemirror_mode": {
    "name": "ipython",
    "version": 3
   },
   "file_extension": ".py",
   "mimetype": "text/x-python",
   "name": "python",
   "nbconvert_exporter": "python",
   "pygments_lexer": "ipython3",
   "version": "3.5.2"
  }
 },
 "nbformat": 4,
 "nbformat_minor": 2
}
