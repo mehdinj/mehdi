{
 "cells": [
  {
   "cell_type": "code",
   "execution_count": null,
   "metadata": {
    "collapsed": true
   },
   "outputs": [],
   "source": [
    "# Fist of all I have used the following shell command to replace \n",
    "# the pattern \"comma, then a space\" (,\\s) with just a space ().\n",
    "# command : sed 's/,\\s/ /g' formatted.ebird.csv formatted.ebird1.csv\n",
    "\n",
    "# This script first opens and reads the eBird data file\n",
    "# It then goes through a loop for every line of the document and appends the \"Family\" column to a list\n",
    "# It uses the counter function to create a dictionary of Families and how many times they were repeated\n",
    "# It finally prints out the key, value pair in a statement using the dictionary created by Counter function.\n",
    "import csv\n",
    "import sys\n",
    "\n",
    "my_dict={}\n",
    "i=0\n",
    "\n",
    "file_object=open(sys.argv[1], encoding = \"ISO-8859-1\")\n",
    "reader = csv.reader(file_object)\n",
    "\n",
    "next(reader, None)\n",
    "next(reader, None)\n",
    "next(reader, None)\n",
    "\n",
    "\n",
    "for row in reader:\n",
    "    \n",
    "    my_dict[row[3]]=row[7]\n",
    "         \n",
    "for keys, values in my_dict.items():\n",
    "         print(keys+\" belongs to Family \"+values)\n",
    "     \n",
    "\n",
    "\n",
    "\n",
    "file_object.close()\n",
    "\n",
    "\n"
   ]
  }
 ],
 "metadata": {
  "anaconda-cloud": {},
  "kernelspec": {
   "display_name": "Python [default]",
   "language": "python",
   "name": "python3"
  },
  "language_info": {
   "codemirror_mode": {
    "name": "ipython",
    "version": 3
   },
   "file_extension": ".py",
   "mimetype": "text/x-python",
   "name": "python",
   "nbconvert_exporter": "python",
   "pygments_lexer": "ipython3",
   "version": "3.5.2"
  }
 },
 "nbformat": 4,
 "nbformat_minor": 2
}
