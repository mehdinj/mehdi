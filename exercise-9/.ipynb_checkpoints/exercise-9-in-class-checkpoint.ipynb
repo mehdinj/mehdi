{
 "cells": [
  {
   "cell_type": "markdown",
   "metadata": {},
   "source": [
    "# In class questions:\n"
   ]
  },
  {
   "cell_type": "markdown",
   "metadata": {},
   "source": [
    "\n",
    "1-How many fossils are included in the dataset?\n",
    "<br>\n",
    "cat canid_occ.csv | tail -n +2 | sort | uniq| wc -l\n",
    "<br>\n",
    "Answer: 2946\n",
    "<br><br>\n",
    "2-How many fossils have been identified to genus-level only? How many to species-level?\n",
    "<br>\n",
    "cat canid_occ.csv | tail -n +2 | cut -d \",\" -f 7 | grep -w \"genus\" | wc -l\n",
    "<br>\n",
    "Answer for genera: 606\n",
    "<br>\n",
    "cat canid_occ.csv | tail -n +2 | cut -d \",\" -f 7 | grep -w \"species\" | wc -l\n",
    "<br>\n",
    "Answer for species: 2105\n",
    "<br><br>\n",
    "3-How many unique accepted names are part of this dataset?\n",
    "<br>\n",
    "cat canid_occ.csv | tail -n +2 | cut -d \",\" -f 6 | sort | uniq | wc -l\n",
    "<br>\n",
    "Answer:211\n",
    "<br><br>\n"
   ]
  },
  {
   "cell_type": "markdown",
   "metadata": {},
   "source": [
    "# To DO:\n"
   ]
  },
  {
   "cell_type": "markdown",
   "metadata": {},
   "source": [
    "1-How can we change the sampling frequency of our PyRate run? <br>\n",
    "-s 1000  sample freq.<br>\n",
    "-s sets the sampling frequency, chaning the value changes sampling frequencey\n",
    "<br><br>\n",
    "2-What does the -n flag achieve?<br>\n",
    "-n 10000000   mcmc generations<br>\n",
    "-n shows the number of steps (generations) in MCMC chain.\n",
    "<br><br>\n"
   ]
  },
  {
   "cell_type": "markdown",
   "metadata": {},
   "source": [
    "# Summarization"
   ]
  },
  {
   "cell_type": "markdown",
   "metadata": {},
   "source": [
    "sum.txt\n",
    "\n",
    "Text file providing the complete list of settings used in the analysis.\n",
    "\n",
    "<br><br>\n",
    "mcmc.log\n",
    "\n",
    "Tab-separated table with the MCMC samples of the posterior, prior, likelihoods of the preservation process and of the birth-death (indicated by PP_lik and BD_lik, respectively), the preservation rate (q_rate), the shape parameter of its gamma-distributed heterogeneity (alpha), the number of sampled rate shifts (k_birth, k_death), the time of origin of the oldest lineage (root_age), the total branch length (tot_length), and the times of speciation and extinction of all taxa in the data set (\\_TS* and \\_TE, respectively). When using the TPP model of preservation, the preservation rates between shifts are indicated as *q_0, q_1, ... q_n (from older to younger).\n",
    "<br><br>\n",
    "\n",
    "marginal_rates.log\n",
    "\n",
    "Tab-separated table with the posterior samples of the marginal rates of speciation, extinction, and net diversification, calculated within 1 time unit (typically Myr). "
   ]
  },
  {
   "cell_type": "code",
   "execution_count": null,
   "metadata": {
    "collapsed": true
   },
   "outputs": [],
   "source": []
  }
 ],
 "metadata": {
  "anaconda-cloud": {},
  "kernelspec": {
   "display_name": "Python [default]",
   "language": "python",
   "name": "python3"
  },
  "language_info": {
   "codemirror_mode": {
    "name": "ipython",
    "version": 3
   },
   "file_extension": ".py",
   "mimetype": "text/x-python",
   "name": "python",
   "nbconvert_exporter": "python",
   "pygments_lexer": "ipython3",
   "version": "3.5.2"
  }
 },
 "nbformat": 4,
 "nbformat_minor": 2
}
