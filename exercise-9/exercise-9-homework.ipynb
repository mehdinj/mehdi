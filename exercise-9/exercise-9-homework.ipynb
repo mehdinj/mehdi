{
 "cells": [
  {
   "cell_type": "markdown",
   "metadata": {},
   "source": [
    "# Homework\n",
    "\n",
    "1-Open the RTT plots that you created during this exercise. In your Jupyter notebook, answer the following questions:<br>\n",
    "a. Describe the changes in Speciation rates across the Canidae lineage. <br>\n",
    "b. Describe the changes in Extinction rates across the Canidae lineage. <br>\n",
    "c. Describe the changes in Diversification rates across the Canidae lineage.\n"
   ]
  },
  {
   "cell_type": "markdown",
   "metadata": {},
   "source": [
    "***Answer:*** <br>\n",
    "a. Speciation is relatively high (~0.25) around 50 Million years ago (Ma). However, there is a drop in speciation rate around 30 Ma to 20 Ma. The low rate of speciation consists until about 5 Ma, when it increases again to similar rates at the beginning (50 Ma) of about 0.25.\n",
    "<br><br>\n",
    "b. Extinction rate is relatively low (0.1 - 0.2) from 50 Ma all the way to 2-3 Ma when it suddenly jumps to 1.1-1.2 and it persists until the present day.\n",
    "<br><br>\n",
    "c. The net diversification rate starts slightly above zero (0.1 or 0.2) and it slowly decreases over time from 50 Ma to around 8 Ma when it reaches slightly below zero. After that there is an increase in net diversification rate until about 3-4 Ma. After the increase, there is a huge drop in diversification rate to -0.8 or -0.9 all the way to 1-2 Ma. Then, the negative diversification rate persists until the present day."
   ]
  },
  {
   "cell_type": "markdown",
   "metadata": {},
   "source": [
    "**6.Create RTT plots for this new run. Do you see anything different about these RTT plots compared to the ones you had made with only 250000 steps in the MCMC chain?**"
   ]
  },
  {
   "cell_type": "markdown",
   "metadata": {},
   "source": [
    "***Answer:***<br>\n",
    "Yes, the confidence interval or margins of error indicated by the shaded area around the proximate values are smaller in most cases and much more smooth (with less fluctuation). Significant increase in the number of steps allows for better confidence intervals which is translated as smaller surface of shaded areas, and much less fluctuation in edges of the shaded areas (more consistent margins of error).\n"
   ]
  },
  {
   "cell_type": "code",
   "execution_count": null,
   "metadata": {
    "collapsed": true
   },
   "outputs": [],
   "source": []
  }
 ],
 "metadata": {
  "anaconda-cloud": {},
  "kernelspec": {
   "display_name": "Python [default]",
   "language": "python",
   "name": "python3"
  },
  "language_info": {
   "codemirror_mode": {
    "name": "ipython",
    "version": 3
   },
   "file_extension": ".py",
   "mimetype": "text/x-python",
   "name": "python",
   "nbconvert_exporter": "python",
   "pygments_lexer": "ipython3",
   "version": "3.5.2"
  }
 },
 "nbformat": 4,
 "nbformat_minor": 2
}
